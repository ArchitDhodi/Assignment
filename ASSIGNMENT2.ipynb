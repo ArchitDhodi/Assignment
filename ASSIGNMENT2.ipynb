{
  "nbformat": 4,
  "nbformat_minor": 0,
  "metadata": {
    "colab": {
      "name": "ASSIGNMENT2",
      "provenance": [],
      "authorship_tag": "ABX9TyNn4CQTtF3UzwvwkpT8S2TF",
      "include_colab_link": true
    },
    "kernelspec": {
      "name": "python3",
      "display_name": "Python 3"
    }
  },
  "cells": [
    {
      "cell_type": "markdown",
      "metadata": {
        "id": "view-in-github",
        "colab_type": "text"
      },
      "source": [
        "<a href=\"https://colab.research.google.com/github/ArchitDhodi/Assignment/blob/master/ASSIGNMENT2.ipynb\" target=\"_parent\"><img src=\"https://colab.research.google.com/assets/colab-badge.svg\" alt=\"Open In Colab\"/></a>"
      ]
    },
    {
      "cell_type": "code",
      "metadata": {
        "id": "it-9_onj6EMB"
      },
      "source": [
        "#PROGRAM - 1"
      ],
      "execution_count": 1,
      "outputs": []
    },
    {
      "cell_type": "code",
      "metadata": {
        "colab": {
          "base_uri": "https://localhost:8080/"
        },
        "id": "7jkaATlF7G1q",
        "outputId": "08d40af7-6128-4219-ba99-7cc31a3eb5fd"
      },
      "source": [
        "for x in range(1,6):\r\n",
        "  for y in range(0,x):\r\n",
        "    print(\"*\",end=\"\")\r\n",
        "  print()\r\n",
        "\r\n",
        "\r\n",
        "for a in range(5,0,-1):\r\n",
        "  for b in range(0,a):\r\n",
        "    print(\"*\",end=\"\")\r\n",
        "  print()\r\n"
      ],
      "execution_count": 2,
      "outputs": [
        {
          "output_type": "stream",
          "text": [
            "*\n",
            "**\n",
            "***\n",
            "****\n",
            "*****\n",
            "*****\n",
            "****\n",
            "***\n",
            "**\n",
            "*\n"
          ],
          "name": "stdout"
        }
      ]
    },
    {
      "cell_type": "code",
      "metadata": {
        "id": "tXXAhFYg7VfA"
      },
      "source": [
        "#PROGRAM - 2"
      ],
      "execution_count": 3,
      "outputs": []
    },
    {
      "cell_type": "code",
      "metadata": {
        "colab": {
          "base_uri": "https://localhost:8080/",
          "height": 52
        },
        "id": "cm3x6yCd81iE",
        "outputId": "c5986d89-3664-4471-da30-66e3812e9cf9"
      },
      "source": [
        "name=input(\"Input a name ->  \")\r\n",
        "name[::-1]"
      ],
      "execution_count": 4,
      "outputs": [
        {
          "output_type": "stream",
          "text": [
            "Input a name ->  ineuron\n"
          ],
          "name": "stdout"
        },
        {
          "output_type": "execute_result",
          "data": {
            "application/vnd.google.colaboratory.intrinsic+json": {
              "type": "string"
            },
            "text/plain": [
              "'norueni'"
            ]
          },
          "metadata": {
            "tags": []
          },
          "execution_count": 4
        }
      ]
    },
    {
      "cell_type": "code",
      "metadata": {
        "id": "cmgNBY3q9KFm"
      },
      "source": [
        ""
      ],
      "execution_count": 4,
      "outputs": []
    }
  ]
}